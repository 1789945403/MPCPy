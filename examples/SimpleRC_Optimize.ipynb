{
 "metadata": {
  "name": "",
  "signature": "sha256:a07fa3d16c34ba0d7955d910d64b9b4cac6b5f1c1ac62896e296cebacb6b7c3d"
 },
 "nbformat": 3,
 "nbformat_minor": 0,
 "worksheets": [
  {
   "cells": [
    {
     "cell_type": "heading",
     "level": 1,
     "metadata": {},
     "source": [
      "Optimize a simple RC model for a single day."
     ]
    },
    {
     "cell_type": "markdown",
     "metadata": {},
     "source": [
      "![alt text](SimpleRC.png)\n"
     ]
    },
    {
     "cell_type": "heading",
     "level": 2,
     "metadata": {},
     "source": [
      "Import modules and set to temporary working directory"
     ]
    },
    {
     "cell_type": "code",
     "collapsed": false,
     "input": [
      "%matplotlib inline\n",
      "\n",
      "from mpcpy import models\n",
      "from mpcpy import exodata\n",
      "from mpcpy import utility\n",
      "from mpcpy import units\n",
      "from mpcpy import variables\n",
      "from mpcpy import optimization\n",
      "from matplotlib import pyplot as plt\n",
      "import os\n",
      "import tempfile\n",
      "import shutil\n",
      "\n",
      "# Change working directory to temporary\n",
      "cwd = os.getcwd(); \n",
      "tempdir = tempfile.mkdtemp();\n",
      "os.chdir(tempdir);"
     ],
     "language": "python",
     "metadata": {},
     "outputs": [],
     "prompt_number": 1
    },
    {
     "cell_type": "heading",
     "level": 2,
     "metadata": {},
     "source": [
      "Set model paths"
     ]
    },
    {
     "cell_type": "code",
     "collapsed": false,
     "input": [
      "# Get the home directory of MPCPy\n",
      "MPCPyPath = utility.get_MPCPy_path()\n",
      "# Set the modelica model file path\n",
      "mopath = MPCPyPath+'/resources/model/Simple.mo'\n",
      "# Set the model path within the modelica file\n",
      "modelpath = 'Simple.RC'"
     ],
     "language": "python",
     "metadata": {},
     "outputs": [],
     "prompt_number": 2
    },
    {
     "cell_type": "heading",
     "level": 2,
     "metadata": {},
     "source": [
      "Gather control inputs to model from a csv file"
     ]
    },
    {
     "cell_type": "markdown",
     "metadata": {},
     "source": [
      "A variable map defines which column header in the csv file matches to which variable in the model, as well as the units of the data in the csv column.  Additionally, a `control` class from the `exodata` module is used to collect the data from the csv.  This class is used to differentiate the inputs to the model that will be optimized.  Additionally, the control data collected here will serve as an initial guess to the optimization problem."
     ]
    },
    {
     "cell_type": "code",
     "collapsed": false,
     "input": [
      "# Set control csv filepath\n",
      "control_csv_filepath = MPCPyPath+'/resources/model/SimpleRC_Input.csv'\n",
      "# Set the variable map\n",
      "control_variable_map = {'q_flow_csv' : ('q_flow', units.W)}\n",
      "# Instantiate an exodata object\n",
      "controls = exodata.ControlFromCSV(control_csv_filepath, control_variable_map)\n",
      "# Collect data from the csv file into the exodata object\n",
      "controls.collect_data('1/1/2017', '1/2/2017')\n",
      "# Display the collected input data\n",
      "print(controls.display_data())"
     ],
     "language": "python",
     "metadata": {},
     "outputs": [
      {
       "output_type": "stream",
       "stream": "stdout",
       "text": [
        "                           q_flow\n",
        "Time                             \n",
        "2017-01-01 00:00:00+00:00     100\n",
        "2017-01-02 00:00:00+00:00     100\n"
       ]
      }
     ],
     "prompt_number": 3
    },
    {
     "cell_type": "heading",
     "level": 2,
     "metadata": {},
     "source": [
      "Gather time-varying constraints we wish to apply to our optimization from a csv file"
     ]
    },
    {
     "cell_type": "markdown",
     "metadata": {},
     "source": [
      "A variable map defines which column header in the csv file matches to which variable constraint in the model, as well as the units of the data in the csv column.  `'GTE'` labels the constraint as greater-than-or-equal and `'LTE'` labels the constraint as less-than-or-equal."
     ]
    },
    {
     "cell_type": "code",
     "collapsed": false,
     "input": [
      "# Set the constraint csv filepath\n",
      "constraint_csv_filepath = utility.get_MPCPy_path()+'/resources/optimization/SimpleRC_Constraints.csv'\n",
      "# Set variable map\n",
      "constraint_variable_map = {'q_flow_min' : ('q_flow', 'GTE', units.W), \\\n",
      "                           'T_db_min' : ('T_db', 'GTE', units.K), \\\n",
      "                           'T_db_max' : ('T_db', 'LTE', units.K)}\n",
      "# Instantiate an exodata object\n",
      "constraints = exodata.ConstraintFromCSV(constraint_csv_filepath, constraint_variable_map)\n",
      "# Collect data from the csv file into the exodata object\n",
      "constraints.collect_data('1/1/2017', '1/2/2017')\n",
      "# Display the collected constraint data\n",
      "print(constraints.display_data())\n"
     ],
     "language": "python",
     "metadata": {},
     "outputs": [
      {
       "output_type": "stream",
       "stream": "stdout",
       "text": [
        "                           T_db_GTE  T_db_LTE  q_flow_GTE\n",
        "Time                                                     \n",
        "2017-01-01 00:00:00+00:00       293       298           0\n",
        "2017-01-02 00:00:00+00:00       293       298           0\n"
       ]
      }
     ],
     "prompt_number": 4
    },
    {
     "cell_type": "heading",
     "level": 2,
     "metadata": {},
     "source": [
      "Define the measurements to take from the model"
     ]
    },
    {
     "cell_type": "markdown",
     "metadata": {},
     "source": [
      "The measurement variable name matches the variable path in our model.  In this case, `T_db` is a top-level output.  Any number of variables can be specified as measurements by adding keys to the measurements dictionary, as long as the variable is present in the model and the path to the variable is referenced correctly.  \n",
      "\n",
      "In this case, the sample rate of our measurement is set to be 30 minutes.  If multiple measurements are set with different sample rates, the minimum sample rate will be used for all of the measurements."
     ]
    },
    {
     "cell_type": "code",
     "collapsed": false,
     "input": [
      "# Set measurements\n",
      "measurements = {};\n",
      "measurements['T_db'] = {'Sample' : variables.Static('T_db_sample', 1800, units.s)}"
     ],
     "language": "python",
     "metadata": {},
     "outputs": [],
     "prompt_number": 5
    },
    {
     "cell_type": "heading",
     "level": 2,
     "metadata": {},
     "source": [
      "Instantiate the model"
     ]
    },
    {
     "cell_type": "markdown",
     "metadata": {},
     "source": [
      "The model object is instantiated as a model from modelica using the information we have gathered so far."
     ]
    },
    {
     "cell_type": "code",
     "collapsed": false,
     "input": [
      "# Instantiate model\n",
      "model = models.Modelica(models.JModelica, \\\n",
      "                        models.RMSE, \\\n",
      "                        measurements, \\\n",
      "                        moinfo = (mopath, modelpath, {}), \\\n",
      "                        control_data = controls.data)"
     ],
     "language": "python",
     "metadata": {},
     "outputs": [],
     "prompt_number": 8
    },
    {
     "cell_type": "heading",
     "level": 2,
     "metadata": {},
     "source": [
      "Instantiate the optimization problem"
     ]
    },
    {
     "cell_type": "markdown",
     "metadata": {},
     "source": [
      "We instantiate the optimization problem by supplying the model object we have created above, defining what the optimization objective is (in this case, energy minimization), defining which optimization method to use (in this case, JModelica), specifying which variable in our model we are to use for the objective, and applying the constraints."
     ]
    },
    {
     "cell_type": "code",
     "collapsed": false,
     "input": [
      "# Instantiate optimization problem\n",
      "opt_problem = optimization.Optimization(model, \\\n",
      "                                        optimization.EnergyMin, \\\n",
      "                                        optimization.JModelica, \\\n",
      "                                        'q_flow', \\\n",
      "                                        constraint_data = constraints.data)"
     ],
     "language": "python",
     "metadata": {},
     "outputs": [],
     "prompt_number": 9
    },
    {
     "cell_type": "heading",
     "level": 2,
     "metadata": {},
     "source": [
      "Solve the optimization problem"
     ]
    },
    {
     "cell_type": "markdown",
     "metadata": {},
     "source": [
      "The time-horizon for the optimization is specified upon solving the optimization problem, similarly to model simulation."
     ]
    },
    {
     "cell_type": "code",
     "collapsed": false,
     "input": [
      "opt_problem.optimize('1/1/2017', '1/2/2017');"
     ],
     "language": "python",
     "metadata": {},
     "outputs": [
      {
       "output_type": "stream",
       "stream": "stdout",
       "text": [
        "Final Run Statistics: Simple.RC_initialize \n",
        "\n",
        " Number of steps                                 : 40\n",
        " Number of function evaluations                  : 55\n",
        " Number of Jacobian evaluations                  : 1\n",
        " Number of function eval. due to Jacobian eval.  : 2\n",
        " Number of error test failures                   : 2\n",
        " Number of nonlinear iterations                  : 52\n",
        " Number of nonlinear convergence failures        : 0\n",
        "\n",
        "Solver options:\n",
        "\n",
        " Solver                   : CVode\n",
        " Linear multistep method  : BDF\n",
        " Nonlinear solver         : Newton\n",
        " Linear solver type       : DENSE\n",
        " Maximal order            : 5\n",
        " Tolerances (absolute)    : [  1.00000000e-06   3.00000000e-04]\n",
        " Tolerances (relative)    : 0.0001\n",
        "\n",
        "Simulation interval    : 0.0 - 86400.0 seconds.\n",
        "Elapsed simulation time: 0.0204820632935 seconds.\n",
        "\n",
        "Initialization time: 0.64 seconds"
       ]
      },
      {
       "output_type": "stream",
       "stream": "stdout",
       "text": [
        "\n",
        "\n",
        "Total time: 1.14 seconds\n",
        "Pre-processing time: 0.00 seconds\n",
        "Solution time: 0.48 seconds\n",
        "Post-processing time: 0.03 seconds\n",
        "\n",
        "('Solve_Succeeded', 31, 127900301.18829869, 0.474155)\n"
       ]
      }
     ],
     "prompt_number": 10
    },
    {
     "cell_type": "heading",
     "level": 2,
     "metadata": {},
     "source": [
      "Plot the results"
     ]
    },
    {
     "cell_type": "markdown",
     "metadata": {},
     "source": [
      "The quantity and unit of the measurement is detected from the modelica model."
     ]
    },
    {
     "cell_type": "code",
     "collapsed": false,
     "input": [
      "plt.figure(1)\n",
      "ts = model.measurements['T_db']['Simulated'].display_data()\n",
      "quantity = model.measurements['T_db']['Simulated'].quantity_name\n",
      "unit_name = model.measurements['T_db']['Simulated'].display_unit.name\n",
      "plt.plot(ts)\n",
      "plt.xticks(rotation=70)\n",
      "plt.ylabel(quantity + ' [' + unit_name + ']');\n",
      "\n",
      "plt.figure(2)\n",
      "ts = model.control_data['q_flow'].display_data()\n",
      "quantity = model.control_data['q_flow'].quantity_name\n",
      "unit_name = model.control_data['q_flow'].display_unit.name\n",
      "plt.plot(ts)\n",
      "plt.xticks(rotation=70)\n",
      "plt.ylabel(quantity + ' [' + unit_name + ']');\n"
     ],
     "language": "python",
     "metadata": {},
     "outputs": [
      {
       "metadata": {},
       "output_type": "display_data",
       "png": "[encoded data removed]",
       "text": [
        "<matplotlib.figure.Figure at 0x7fbf8e11a390>"
       ]
      },
      {
       "metadata": {},
       "output_type": "display_data",
       "png": "[encoded data removed]",
       "text": [
        "<matplotlib.figure.Figure at 0x7fbf8e180990>"
       ]
      }
     ],
     "prompt_number": 11
    },
    {
     "cell_type": "heading",
     "level": 3,
     "metadata": {},
     "source": [
      "Delete temporary working directory"
     ]
    },
    {
     "cell_type": "code",
     "collapsed": false,
     "input": [
      "shutil.rmtree(tempdir, ignore_errors=True)\n",
      "os.chdir(cwd);"
     ],
     "language": "python",
     "metadata": {},
     "outputs": [],
     "prompt_number": 12
    },
    {
     "cell_type": "code",
     "collapsed": false,
     "input": [],
     "language": "python",
     "metadata": {},
     "outputs": []
    }
   ],
   "metadata": {}
  }
 ]
}