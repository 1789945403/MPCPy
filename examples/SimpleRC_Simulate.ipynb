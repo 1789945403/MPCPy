{
 "metadata": {
  "name": "",
  "signature": "sha256:668c25174493591c47fb25dc89ef21cc34a8b1d9a636d3fb969159a9f490821d"
 },
 "nbformat": 3,
 "nbformat_minor": 0,
 "worksheets": [
  {
   "cells": [
    {
     "cell_type": "heading",
     "level": 1,
     "metadata": {},
     "source": [
      "Simulate a simple RC model for a single day"
     ]
    },
    {
     "cell_type": "markdown",
     "metadata": {},
     "source": [
      "![alt text](SimpleRC.png)"
     ]
    },
    {
     "cell_type": "heading",
     "level": 2,
     "metadata": {},
     "source": [
      "Import modules and set to temporary working directory"
     ]
    },
    {
     "cell_type": "code",
     "collapsed": false,
     "input": [
      "%matplotlib inline\n",
      "\n",
      "from mpcpy import models\n",
      "from mpcpy import exodata\n",
      "from mpcpy import utility\n",
      "from mpcpy import units\n",
      "from mpcpy import variables\n",
      "from matplotlib import pyplot as plt\n",
      "import os\n",
      "import tempfile\n",
      "import shutil\n",
      "\n",
      "# Change working directory to temporary\n",
      "cwd = os.getcwd(); \n",
      "tempdir = tempfile.mkdtemp();\n",
      "os.chdir(tempdir);"
     ],
     "language": "python",
     "metadata": {},
     "outputs": [],
     "prompt_number": 1
    },
    {
     "cell_type": "heading",
     "level": 2,
     "metadata": {},
     "source": [
      "Set model paths"
     ]
    },
    {
     "cell_type": "code",
     "collapsed": false,
     "input": [
      "# Get the home directory of MPCPy\n",
      "MPCPyPath = utility.get_MPCPy_path()\n",
      "# Set the modelica model file path\n",
      "mopath = MPCPyPath+'/resources/model/Simple.mo'\n",
      "# Set the model path within the modelica file\n",
      "modelpath = 'Simple.RC'"
     ],
     "language": "python",
     "metadata": {},
     "outputs": [],
     "prompt_number": 2
    },
    {
     "cell_type": "heading",
     "level": 2,
     "metadata": {},
     "source": [
      "Gather inputs to model from a csv file"
     ]
    },
    {
     "cell_type": "markdown",
     "metadata": {},
     "source": [
      "A variable map defines which column header in the csv file matches to which variable in the model, as well as the units of the data in the csv column.  Additionally, an `other_input` class from the `exodata` module is used to collect the data from the csv.  This class can be used to collect miscellaneous input data."
     ]
    },
    {
     "cell_type": "code",
     "collapsed": false,
     "input": [
      "# Set input csv filepath\n",
      "input_csv_filepath = MPCPyPath+'/resources/model/SimpleRC_Input.csv'\n",
      "# Set the variable map\n",
      "variable_map = {'q_flow_csv' : ('q_flow', units.W)}\n",
      "# Instantiate an exodata object\n",
      "other_input = exodata.OtherInputFromCSV(input_csv_filepath, variable_map)\n",
      "# Collect data from the csv file into the exodata object\n",
      "other_input.collect_data('1/1/2017', '1/2/2017')\n",
      "# Display the collected input data\n",
      "print(other_input.display_data())"
     ],
     "language": "python",
     "metadata": {},
     "outputs": [
      {
       "output_type": "stream",
       "stream": "stdout",
       "text": [
        "                           q_flow\n",
        "Time                             \n",
        "2017-01-01 00:00:00+00:00     100\n",
        "2017-01-02 00:00:00+00:00     100\n"
       ]
      }
     ],
     "prompt_number": 4
    },
    {
     "cell_type": "heading",
     "level": 2,
     "metadata": {},
     "source": [
      "Define the measurements to take from the model"
     ]
    },
    {
     "cell_type": "markdown",
     "metadata": {},
     "source": [
      "The measurement variable name matches the variable path in our model.  In this case, `T_db` is a top-level output.  Any number of variables can be specified as measurements by adding keys to the measurements dictionary, as long as the variable is present in the model and the path to the variable is referenced correctly.  \n",
      "\n",
      "In this case, the sample rate of our measurement is set to be 30 minutes.  If multiple measurements are set with different sample rates, the minimum sample rate will be used for all of the measurements."
     ]
    },
    {
     "cell_type": "code",
     "collapsed": false,
     "input": [
      "# Set measurements\n",
      "measurements = {};\n",
      "measurements['T_db'] = {'Sample' : variables.Static('T_db_sample', 1800, units.s)}"
     ],
     "language": "python",
     "metadata": {},
     "outputs": [],
     "prompt_number": 5
    },
    {
     "cell_type": "heading",
     "level": 2,
     "metadata": {},
     "source": [
      "Instantiate the model"
     ]
    },
    {
     "cell_type": "markdown",
     "metadata": {},
     "source": [
      "The model object is instantiated as a physical model from modelica using the information we have gathered so far."
     ]
    },
    {
     "cell_type": "code",
     "collapsed": false,
     "input": [
      "# Instantiate model\n",
      "model = models.Modelica(models.JModelica, \\\n",
      "                        models.RMSE, \\\n",
      "                        measurements, \\\n",
      "                        moinfo = (mopath, modelpath, {}), \\\n",
      "                        other_inputs = other_input.data)"
     ],
     "language": "python",
     "metadata": {},
     "outputs": [],
     "prompt_number": 6
    },
    {
     "cell_type": "heading",
     "level": 2,
     "metadata": {},
     "source": [
      "Simulate the model"
     ]
    },
    {
     "cell_type": "code",
     "collapsed": false,
     "input": [
      "model.simulate('1/1/2017', '1/2/2017')"
     ],
     "language": "python",
     "metadata": {},
     "outputs": [
      {
       "output_type": "stream",
       "stream": "stdout",
       "text": [
        "Final Run Statistics: --- \n",
        "\n",
        " Number of steps                                 : 44\n",
        " Number of function evaluations                  : 64\n",
        " Number of Jacobian evaluations                  : 1\n",
        " Number of function eval. due to Jacobian eval.  : 0\n",
        " Number of error test failures                   : 3\n",
        " Number of nonlinear iterations                  : 60\n",
        " Number of nonlinear convergence failures        : 0\n",
        "\n",
        "Solver options:\n",
        "\n",
        " Solver                   : CVode\n",
        " Linear multistep method  : BDF\n",
        " Nonlinear solver         : Newton\n",
        " Linear solver type       : DENSE\n",
        " Maximal order            : 5\n",
        " Tolerances (absolute)    : 0.0003\n",
        " Tolerances (relative)    : 0.0001\n",
        "\n",
        "Simulation interval    : 0.0 - 86400.0 seconds.\n",
        "Elapsed simulation time: 0.0543730258942 seconds.\n"
       ]
      }
     ],
     "prompt_number": 7
    },
    {
     "cell_type": "heading",
     "level": 2,
     "metadata": {},
     "source": [
      "Plot the results"
     ]
    },
    {
     "cell_type": "markdown",
     "metadata": {},
     "source": [
      "The quantity and unit of the measurement is detected from the modelica model."
     ]
    },
    {
     "cell_type": "code",
     "collapsed": false,
     "input": [
      "ts = model.measurements['T_db']['Simulated'].display_data()\n",
      "quantity = model.measurements['T_db']['Simulated'].quantity_name\n",
      "unit_name = model.measurements['T_db']['Simulated'].display_unit.name\n",
      "plt.plot(ts)\n",
      "plt.xticks(rotation=70)\n",
      "plt.ylabel(quantity + ' [' + unit_name + ']')"
     ],
     "language": "python",
     "metadata": {},
     "outputs": [
      {
       "metadata": {},
       "output_type": "pyout",
       "prompt_number": 8,
       "text": [
        "<matplotlib.text.Text at 0x7f4faa3ec350>"
       ]
      },
      {
       "metadata": {},
       "output_type": "display_data",
       "png": "[encoded data removed]",
       "text": [
        "<matplotlib.figure.Figure at 0x7f4fab625e50>"
       ]
      }
     ],
     "prompt_number": 8
    },
    {
     "cell_type": "heading",
     "level": 3,
     "metadata": {},
     "source": [
      "Delete temporary working directory"
     ]
    },
    {
     "cell_type": "code",
     "collapsed": false,
     "input": [
      "shutil.rmtree(tempdir, ignore_errors=True)\n",
      "os.chdir(cwd);"
     ],
     "language": "python",
     "metadata": {},
     "outputs": [],
     "prompt_number": 9
    },
    {
     "cell_type": "code",
     "collapsed": false,
     "input": [],
     "language": "python",
     "metadata": {},
     "outputs": []
    }
   ],
   "metadata": {}
  }
 ]
}