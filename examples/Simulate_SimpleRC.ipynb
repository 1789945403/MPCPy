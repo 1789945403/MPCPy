{
 "metadata": {
  "name": "",
  "signature": "sha256:7d6c1c57d9faf8e91680e3b617a884846d5a2439bd13e988e4621adaee39ab61"
 },
 "nbformat": 3,
 "nbformat_minor": 0,
 "worksheets": [
  {
   "cells": [
    {
     "cell_type": "heading",
     "level": 1,
     "metadata": {},
     "source": [
      "Simulate a simple RC model for a single day"
     ]
    },
    {
     "cell_type": "markdown",
     "metadata": {},
     "source": [
      "![alt text](figures/SimpleRC.png)"
     ]
    },
    {
     "cell_type": "heading",
     "level": 2,
     "metadata": {},
     "source": [
      "Import modules and set to temporary working directory"
     ]
    },
    {
     "cell_type": "code",
     "collapsed": false,
     "input": [
      "%matplotlib inline\n",
      "\n",
      "from mpcpy import models\n",
      "from mpcpy import exodata\n",
      "from mpcpy import utility\n",
      "from mpcpy import units\n",
      "from mpcpy import variables\n",
      "from matplotlib import pyplot as plt\n",
      "import os\n",
      "import tempfile\n",
      "import shutil\n",
      "\n",
      "# Change working directory to temporary\n",
      "cwd = os.getcwd(); \n",
      "tempdir = tempfile.mkdtemp();\n",
      "os.chdir(tempdir);"
     ],
     "language": "python",
     "metadata": {},
     "outputs": []
    },
    {
     "cell_type": "heading",
     "level": 2,
     "metadata": {},
     "source": [
      "Set model paths"
     ]
    },
    {
     "cell_type": "code",
     "collapsed": false,
     "input": [
      "# Get the home directory of MPCPy\n",
      "MPCPyPath = utility.get_MPCPy_path()\n",
      "# Set the modelica model file path\n",
      "mopath = MPCPyPath+'/resources/model/Simple.mo'\n",
      "# Set the model path within the modelica file\n",
      "modelpath = 'Simple.RC'"
     ],
     "language": "python",
     "metadata": {},
     "outputs": []
    },
    {
     "cell_type": "heading",
     "level": 2,
     "metadata": {},
     "source": [
      "Gather inputs to model from a csv file"
     ]
    },
    {
     "cell_type": "markdown",
     "metadata": {},
     "source": [
      "A variable map defines which column header in the csv file matches to which variable in the model, as well as the units of the data in the csv column.  Additionally, an `other_input` class from the `exodata` module is used to collect the data from the csv.  This class can be used to collect miscellaneous input data."
     ]
    },
    {
     "cell_type": "code",
     "collapsed": false,
     "input": [
      "# Set input csv filepath\n",
      "input_csv_filepath = MPCPyPath+'/resources/model/SimpleRC_Input.csv'\n",
      "# Set the variable map\n",
      "variable_map = {'q_flow_csv' : ('q_flow', units.W)}\n",
      "# Instantiate an exodata object\n",
      "other_input = exodata.OtherInputFromCSV(input_csv_filepath, variable_map)\n",
      "# Collect data from the csv file into the exodata object\n",
      "other_input.collect_data('1/1/2017', '1/2/2017')\n",
      "# Display the collected input data\n",
      "print(other_input.display_data())"
     ],
     "language": "python",
     "metadata": {},
     "outputs": []
    },
    {
     "cell_type": "heading",
     "level": 2,
     "metadata": {},
     "source": [
      "Define the measurements to take from the model"
     ]
    },
    {
     "cell_type": "markdown",
     "metadata": {},
     "source": [
      "The measurement variable name matches the variable path in our model.  In this case, `T_db` is a top-level output.  Any number of variables can be specified as measurements by adding keys to the measurements dictionary, as long as the variable is present in the model and the path to the variable is referenced correctly.  \n",
      "\n",
      "In this case, the sample rate of our measurement is set to be 30 minutes.  If multiple measurements are set with different sample rates, the minimum sample rate will be used for all of the measurements."
     ]
    },
    {
     "cell_type": "code",
     "collapsed": false,
     "input": [
      "# Set measurements\n",
      "measurements = {};\n",
      "measurements['T_db'] = {'Sample' : variables.Static('T_db_sample', 1800, units.s)}"
     ],
     "language": "python",
     "metadata": {},
     "outputs": []
    },
    {
     "cell_type": "heading",
     "level": 2,
     "metadata": {},
     "source": [
      "Instantiate the model"
     ]
    },
    {
     "cell_type": "markdown",
     "metadata": {},
     "source": [
      "The model object is instantiated as a physical model from modelica using the information we have gathered so far."
     ]
    },
    {
     "cell_type": "code",
     "collapsed": false,
     "input": [
      "# Instantiate model\n",
      "model = models.Modelica(models.JModelica, \\\n",
      "                        models.RMSE, \\\n",
      "                        measurements, \\\n",
      "                        moinfo = (mopath, modelpath, {}), \\\n",
      "                        other_inputs = other_input.data)"
     ],
     "language": "python",
     "metadata": {},
     "outputs": []
    },
    {
     "cell_type": "heading",
     "level": 2,
     "metadata": {},
     "source": [
      "Simulate the model"
     ]
    },
    {
     "cell_type": "code",
     "collapsed": false,
     "input": [
      "model.simulate('1/1/2017', '1/2/2017')"
     ],
     "language": "python",
     "metadata": {},
     "outputs": []
    },
    {
     "cell_type": "heading",
     "level": 2,
     "metadata": {},
     "source": [
      "Plot the results"
     ]
    },
    {
     "cell_type": "markdown",
     "metadata": {},
     "source": [
      "The quantity and unit of the measurement is detected from the modelica model."
     ]
    },
    {
     "cell_type": "code",
     "collapsed": false,
     "input": [
      "ts = model.measurements['T_db']['Simulated'].display_data()\n",
      "quantity = model.measurements['T_db']['Simulated'].quantity_name\n",
      "unit_name = model.measurements['T_db']['Simulated'].display_unit.name\n",
      "plt.plot(ts)\n",
      "plt.xticks(rotation=70)\n",
      "plt.ylabel(quantity + ' [' + unit_name + ']')"
     ],
     "language": "python",
     "metadata": {},
     "outputs": []
    },
    {
     "cell_type": "heading",
     "level": 3,
     "metadata": {},
     "source": [
      "Delete temporary working directory"
     ]
    },
    {
     "cell_type": "code",
     "collapsed": false,
     "input": [
      "shutil.rmtree(tempdir, ignore_errors=True)\n",
      "os.chdir(cwd);"
     ],
     "language": "python",
     "metadata": {},
     "outputs": []
    },
    {
     "cell_type": "code",
     "collapsed": false,
     "input": [],
     "language": "python",
     "metadata": {},
     "outputs": []
    }
   ],
   "metadata": {}
  }
 ]
}