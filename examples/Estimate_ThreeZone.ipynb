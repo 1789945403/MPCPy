{
 "metadata": {
  "kernelspec": {
   "display_name": "Python 2",
   "language": "python",
   "name": "python2"
  },
  "language_info": {
   "codemirror_mode": {
    "name": "ipython",
    "version": 2
   },
   "file_extension": ".py",
   "mimetype": "text/x-python",
   "name": "python",
   "nbconvert_exporter": "python",
   "pygments_lexer": "ipython2",
   "version": "2.7.11"
  },
  "name": "",
  "signature": "sha256:5e3ce34c90f84a639238cd8bda09016b0e2f97811a611a1852097b4a0fc9910f"
 },
 "nbformat": 3,
 "nbformat_minor": 0,
 "worksheets": [
  {
   "cells": [
    {
     "cell_type": "heading",
     "level": 1,
     "metadata": {},
     "source": [
      "Estimate the parameters of a simplified thermal envelope model"
     ]
    },
    {
     "cell_type": "markdown",
     "metadata": {},
     "source": [
      "A three-zone building is emulated using a detailed model represented by an FMU.  Data from this emulation are used to estimate time-invariant parameters of a simplified model represented by a three-zone RC network in modelica.  \n",
      "\n",
      "It is recommended to view the Simulate_SimpleRC and Optimize_SimpleRC examples, combined with the user guide, for more detailed explanations of interacting with MPCPy objects."
     ]
    },
    {
     "cell_type": "markdown",
     "metadata": {},
     "source": [
      "## Import modules and set to temporary working directory\n"
     ]
    },
    {
     "cell_type": "code",
     "collapsed": false,
     "input": [
      "from mpcpy import models\n",
      "from mpcpy import exodata\n",
      "from mpcpy import utility\n",
      "from mpcpy import systems\n",
      "from mpcpy import units\n",
      "from mpcpy import variables\n",
      "from matplotlib import pyplot as plt\n",
      "import os\n",
      "import tempfile\n",
      "import shutil\n",
      "\n",
      "# Change working directory to temporary\n",
      "cwd = os.getcwd(); \n",
      "tempdir = tempfile.mkdtemp();\n",
      "os.chdir(tempdir);\n",
      "# Get mpcpy path\n",
      "MPCPyPath = utility.get_MPCPy_path();"
     ],
     "language": "python",
     "metadata": {},
     "outputs": [],
     "prompt_number": 11
    },
    {
     "cell_type": "heading",
     "level": 2,
     "metadata": {},
     "source": [
      "Instantiate exodata objects"
     ]
    },
    {
     "cell_type": "code",
     "collapsed": true,
     "input": [
      "# Exogenous data collection time range\n",
      "start_time_exodata = '1/1/2015';\n",
      "final_time_exodata = '1/30/2015'; \n",
      "\n",
      "# Weather\n",
      "weather_path = MPCPyPath + '/resources/weather/USA_IL_Chicago-OHare.Intl.AP.725300_TMY3.epw';\n",
      "weather = exodata.WeatherFromEPW(weather_path);\n",
      "weather.collect_data(start_time_exodata, final_time_exodata);\n",
      "\n",
      "# Internal\n",
      "internal_path = MPCPyPath + '/resources/internal/sampleCSV.csv';\n",
      "internal_variable_map = {'intRad_wes' : ('wes', 'intRad', units.W_m2), \\\n",
      "                         'intCon_wes' : ('wes', 'intCon', units.W_m2), \\\n",
      "                         'intLat_wes' : ('wes', 'intLat', units.W_m2), \\\n",
      "                         'intRad_hal' : ('hal', 'intRad', units.W_m2), \\\n",
      "                         'intCon_hal' : ('hal', 'intCon', units.W_m2), \\\n",
      "                         'intLat_hal' : ('hal', 'intLat', units.W_m2), \\\n",
      "                         'intRad_eas' : ('eas', 'intRad', units.W_m2), \\\n",
      "                         'intCon_eas' : ('eas', 'intCon', units.W_m2), \\\n",
      "                         'intLat_eas' : ('eas', 'intLat', units.W_m2)};        \n",
      "internal = exodata.InternalFromCSV(internal_path, internal_variable_map, tz_name = weather.tz_name);\n",
      "internal.collect_data(start_time_exodata, final_time_exodata);\n",
      "\n",
      "# Control\n",
      "control_path = MPCPyPath + '/resources/building/ControlCSV_0.csv';\n",
      "control_variable_map = {'conHeat_wes' : ('conHeat_wes', units.unit1), \\\n",
      "                        'conHeat_hal' : ('conHeat_hal', units.unit1), \\\n",
      "                        'conHeat_eas' : ('conHeat_eas', units.unit1)};\n",
      "control = exodata.ControlFromCSV(control_path, control_variable_map, tz_name = weather.tz_name);\n",
      "control.collect_data(start_time_exodata, final_time_exodata);\n",
      "\n",
      "# Parameters        \n",
      "parameters = exodata.ParameterFromCSV(MPCPyPath + '/resources/model/LBNL71T_Parameters.csv');\n",
      "parameters.collect_data();\n",
      "parameters.data['lat'] = {};\n",
      "parameters.data['lat']['Value'] = weather.lat;"
     ],
     "language": "python",
     "metadata": {},
     "outputs": [
      {
       "output_type": "stream",
       "stream": "stdout",
       "text": [
        "Final Run Statistics: --- \n",
        "\n",
        " Number of steps                                 : 3\n",
        " Number of function evaluations                  : 7\n",
        " Number of Jacobian evaluations                  : 1\n",
        " Number of function eval. due to Jacobian eval.  : 1\n",
        " Number of error test failures                   : 0\n",
        " Number of nonlinear iterations                  : 3\n",
        " Number of nonlinear convergence failures        : 0\n",
        " Number of state function evaluations            : 4\n",
        "\n",
        "Solver options:\n",
        "\n",
        " Solver                   : CVode\n",
        " Linear multistep method  : BDF\n",
        " Nonlinear solver         : Newton\n",
        " Linear solver type       : DENSE\n",
        " Maximal order            : 5\n",
        " Tolerances (absolute)    : 1e-06\n",
        " Tolerances (relative)    : 0.0001\n",
        "\n",
        "Simulation interval    : 0.0 - 2505600.0 seconds.\n",
        "Elapsed simulation time: 0.372248 seconds.\n"
       ]
      }
     ],
     "prompt_number": 12
    },
    {
     "cell_type": "heading",
     "level": 2,
     "metadata": {},
     "source": [
      "Define measurements"
     ]
    },
    {
     "cell_type": "code",
     "collapsed": false,
     "input": [
      "measurements = {};\n",
      "measurements['wesTdb'] = {'Sample' : variables.Static('wesTdb_sample', 1800, units.s)};\n",
      "measurements['halTdb'] = {'Sample' : variables.Static('halTdb_sample', 1800, units.s)};\n",
      "measurements['easTdb'] = {'Sample' : variables.Static('easTdb_sample', 1800, units.s)};\n",
      "measurements['wesPhvac'] = {'Sample' : variables.Static('easTdb_sample', 1800, units.s)};\n",
      "measurements['halPhvac'] = {'Sample' : variables.Static('easTdb_sample', 1800, units.s)};     \n",
      "measurements['easPhvac'] = {'Sample' : variables.Static('easTdb_sample', 1800, units.s)};\n",
      "measurements['Ptot'] = {'Sample' : variables.Static('easTdb_sample', 1800, units.s)};"
     ],
     "language": "python",
     "metadata": {},
     "outputs": [],
     "prompt_number": 13
    },
    {
     "cell_type": "heading",
     "level": 2,
     "metadata": {},
     "source": [
      "Instantiate building emulation model"
     ]
    },
    {
     "cell_type": "code",
     "collapsed": true,
     "input": [
      "# Define building emulation fmu filepath\n",
      "building_source_file_path = MPCPyPath + '/resources/building/LBNL71T_Emulation_JModelica_v2.fmu';\n",
      "# Define zone names\n",
      "zone_names = ['wes', 'hal', 'eas'];\n",
      "# Define building emulation parameters\n",
      "building_parameters_data = {};\n",
      "building_parameters_data['lat'] = {};\n",
      "building_parameters_data['lat']['Value'] = weather.lat; \n",
      "# Instantiate building emulation\n",
      "building = systems.EmulationFromFMU(measurements, \\\n",
      "                                    fmupath = building_source_file_path, \\\n",
      "                                    zone_names = zone_names, \\\n",
      "                                    weather_data = weather.data, \\\n",
      "                                    internal_data = internal.data, \\\n",
      "                                    control_data = control.data, \\\n",
      "                                    parameter_data = building_parameters_data, \\\n",
      "                                    tz_name = weather.tz_name);\n"
     ],
     "language": "python",
     "metadata": {},
     "outputs": [],
     "prompt_number": 14
    },
    {
     "cell_type": "heading",
     "level": 2,
     "metadata": {},
     "source": [
      "Instantiate simplified model"
     ]
    },
    {
     "cell_type": "code",
     "collapsed": true,
     "input": [
      "# Define model file information\n",
      "mopath = MPCPyPath + '/resources/model/LBNL71T_MPC.mo';\n",
      "modelpath = 'LBNL71T_MPC.MPC';\n",
      "libraries = os.environ.get('MODELICAPATH');\n",
      "\n",
      "# Define estimation and validation methods\n",
      "estimate_method = models.JModelica; \n",
      "validation_method = models.RMSE;\n",
      "\n",
      "# Instantiate model\n",
      "model = models.Modelica(estimate_method, \\\n",
      "                        validation_method, \\\n",
      "                        measurements, \\\n",
      "                        moinfo = (mopath, modelpath, libraries), \\\n",
      "                        zone_names = zone_names, \\\n",
      "                        weather_data = weather.data, \\\n",
      "                        internal_data = internal.data, \\\n",
      "                        control_data = control.data, \\\n",
      "                        parameter_data = parameters.data, \\\n",
      "                        tz_name = weather.tz_name); "
     ],
     "language": "python",
     "metadata": {},
     "outputs": [],
     "prompt_number": 15
    },
    {
     "cell_type": "heading",
     "level": 2,
     "metadata": {},
     "source": [
      "Perform parameter estimation"
     ]
    },
    {
     "cell_type": "code",
     "collapsed": false,
     "input": [
      "# Define estimation time period\n",
      "start_time_estimation = '1/1/2015';\n",
      "final_time_estimation = '1/4/2015';\n",
      "\n",
      "# Collect measurement data\n",
      "building.collect_measurements(start_time_estimation, final_time_estimation);\n",
      "\n",
      "# Provide collected measurements to simplified model\n",
      "model.measurements = building.measurements;\n",
      "\n",
      "# Define measurements to use for estimate\n",
      "measurement_variable_list = ['wesTdb', 'easTdb', 'halTdb']; \n",
      "\n",
      "# Perform estimation using defined measurement list\n",
      "model.estimate(start_time_estimation, final_time_estimation, measurement_variable_list);"
     ],
     "language": "python",
     "metadata": {},
     "outputs": [
      {
       "output_type": "stream",
       "stream": "stdout",
       "text": [
        "Final Run Statistics: --- \n",
        "\n",
        " Number of steps                                 : 412\n",
        " Number of function evaluations                  : 556\n",
        " Number of Jacobian evaluations                  : 9\n",
        " Number of function eval. due to Jacobian eval.  : 0\n",
        " Number of error test failures                   : 19\n",
        " Number of nonlinear iterations                  : 552\n",
        " Number of nonlinear convergence failures        : 0\n",
        " Number of state function evaluations            : 413\n",
        "\n",
        "Solver options:\n",
        "\n",
        " Solver                   : CVode\n",
        " Linear multistep method  : BDF\n",
        " Nonlinear solver         : Newton\n",
        " Linear solver type       : DENSE\n",
        " Maximal order            : 5\n",
        " Tolerances (absolute)    : [  2.93150000e-04   2.93150000e-04   3.00000000e-04   3.00000000e-04\n",
        "   3.00000000e-04   3.00000000e-04   3.00000000e-04   3.00000000e-04\n",
        "   2.93150000e-04   2.93150000e-04   2.93150000e-04   2.93150000e-04\n",
        "   2.93150000e-04   2.93150000e-04   2.93150000e-04   1.00000000e-01\n",
        "   1.00000000e-06   1.00000000e-06   2.93150000e-04   2.93150000e-04\n",
        "   1.00000000e-01   1.00000000e-06   1.00000000e-06   2.93150000e-04\n",
        "   2.93150000e-04   3.00000000e-04   3.00000000e-04   3.00000000e-04\n",
        "   3.00000000e-04   3.00000000e-04   3.00000000e-04   2.93150000e-04\n",
        "   2.93150000e-04   2.93150000e-04   2.93150000e-04   2.93150000e-04\n",
        "   2.93150000e-04   2.93150000e-04   1.00000000e-01   1.00000000e-06\n",
        "   1.00000000e-06]\n",
        " Tolerances (relative)    : 0.0001\n",
        "\n",
        "Simulation interval    : 0.0 - 259200.0 seconds.\n",
        "Elapsed simulation time: 1.307571 seconds.\n",
        "Final Run Statistics: LBNL71T_MPC.MPC_initialize "
       ]
      },
      {
       "output_type": "stream",
       "stream": "stdout",
       "text": [
        "\n",
        "\n",
        " Number of steps                                 : 247\n",
        " Number of function evaluations                  : 330\n",
        " Number of Jacobian evaluations                  : 5\n",
        " Number of function eval. due to Jacobian eval.  : 55\n",
        " Number of error test failures                   : 15\n",
        " Number of nonlinear iterations                  : 326\n",
        " Number of nonlinear convergence failures        : 0\n",
        "\n",
        "Solver options:\n",
        "\n",
        " Solver                   : CVode\n",
        " Linear multistep method  : BDF\n",
        " Nonlinear solver         : Newton\n",
        " Linear solver type       : DENSE\n",
        " Maximal order            : 5\n",
        " Tolerances (absolute)    : [  1.00000000e-06   3.00000000e-04   3.00000000e-04   3.00000000e-04\n",
        "   3.00000000e-04   3.00000000e-04   3.00000000e-04   3.00000000e-04\n",
        "   3.00000000e-04   3.00000000e-04   3.00000000e-04]\n",
        " Tolerances (relative)    : 0.0001\n",
        "\n",
        "Simulation interval    : 0.0 - 259200.0 seconds.\n",
        "Elapsed simulation time: 0.315563 seconds.\n",
        "Warning: Nominal trajectory for variable J is identically zero. Using nominal attribute instead."
       ]
      },
      {
       "output_type": "stream",
       "stream": "stdout",
       "text": [
        "\n",
        "Warning: Nominal trajectory for variable der(J) is identically zero. Using nominal attribute instead."
       ]
      },
      {
       "output_type": "stream",
       "stream": "stdout",
       "text": [
        "\n",
        "Warning: Nominal trajectory for variable mpc_model.conHeat_eas is identically zero. Using nominal attribute instead."
       ]
      },
      {
       "output_type": "stream",
       "stream": "stdout",
       "text": [
        "\n",
        "Warning: Nominal trajectory for variable mpc_model.conHeat_hal is identically zero. Using nominal attribute instead.\n",
        "Warning: Nominal trajectory for variable mpc_model.conHeat_wes is identically zero. Using nominal attribute instead.\n",
        "Warning: Nominal trajectory for variable mpc_model.convectiveHeater_wes.gain1.y is identically zero. Using nominal attribute instead.\n",
        "Warning: Nominal trajectory for variable mpc_model.convectiveHeater_wes.HeatOutput.Q_flow is identically zero. Using nominal attribute instead.\n",
        "Warning: Nominal trajectory for variable mpc_model.convectiveHeater_eas.gain1.y is identically zero. Using nominal attribute instead.\n",
        "Warning: Nominal trajectory for variable mpc_model.convectiveHeater_eas.HeatOutput.Q_flow is identically zero. Using nominal attribute instead."
       ]
      },
      {
       "output_type": "stream",
       "stream": "stdout",
       "text": [
        "\n",
        "Warning: Nominal trajectory for variable mpc_model.wesPhvac is identically zero. Using nominal attribute instead.\n",
        "Warning: Nominal trajectory for variable mpc_model.easPhvac is identically zero. Using nominal attribute instead.\n",
        "Warning: Nominal trajectory for variable mpc_model.Ptot is identically zero. Using nominal attribute instead.\n",
        "Warning: Nominal trajectory for variable mpc_model.convectiveHeater_hal.gain1.y is identically zero. Using nominal attribute instead.\n",
        "Warning: Nominal trajectory for variable mpc_model.convectiveHeater_hal.HeatOutput.Q_flow is identically zero. Using nominal attribute instead.\n",
        "Warning: Nominal trajectory for variable mpc_model.halPhvac is identically zero. Using nominal attribute instead.\n",
        "\n",
        "Initialization time: 21.06 seconds"
       ]
      },
      {
       "output_type": "stream",
       "stream": "stdout",
       "text": [
        "\n",
        "\n",
        "Total time: 60.77 seconds\n",
        "Pre-processing time: 0.00 seconds\n",
        "Solution time: 38.98 seconds\n",
        "Post-processing time: 0.72 seconds\n",
        "\n",
        "('Solve_Succeeded', 46, 82504.70094245434, 38.977612)\n"
       ]
      }
     ],
     "prompt_number": 16
    },
    {
     "cell_type": "heading",
     "level": 2,
     "metadata": {},
     "source": [
      "Perform validation"
     ]
    },
    {
     "cell_type": "code",
     "collapsed": true,
     "input": [
      "# Validation time\n",
      "start_time_validation = '1/4/2015';\n",
      "final_time_validation = '1/5/2015';       \n",
      "                      \n",
      "# Collect measurement data\n",
      "building.collect_measurements(start_time_validation, final_time_validation);\n",
      "\n",
      "# Provide collected measurements to simplified model\n",
      "model.measurements = building.measurements;\n",
      "\n",
      "# Validate model based on emulated data\n",
      "model.validate(start_time_validation, final_time_validation, tempdir+'/model_validation', plot=0);"
     ],
     "language": "python",
     "metadata": {},
     "outputs": [
      {
       "output_type": "stream",
       "stream": "stdout",
       "text": [
        "Final Run Statistics: --- \n",
        "\n",
        " Number of steps                                 : 131\n",
        " Number of function evaluations                  : 193\n",
        " Number of Jacobian evaluations                  : 3\n",
        " Number of function eval. due to Jacobian eval.  : 0\n",
        " Number of error test failures                   : 9\n",
        " Number of nonlinear iterations                  : 189\n",
        " Number of nonlinear convergence failures        : 0\n",
        " Number of state function evaluations            : 132\n",
        "\n",
        "Solver options:\n",
        "\n",
        " Solver                   : CVode\n",
        " Linear multistep method  : BDF\n",
        " Nonlinear solver         : Newton\n",
        " Linear solver type       : DENSE\n",
        " Maximal order            : 5\n",
        " Tolerances (absolute)    : [  2.93150000e-04   2.93150000e-04   3.00000000e-04   3.00000000e-04\n",
        "   3.00000000e-04   3.00000000e-04   3.00000000e-04   3.00000000e-04\n",
        "   2.93150000e-04   2.93150000e-04   2.93150000e-04   2.93150000e-04\n",
        "   2.93150000e-04   2.93150000e-04   2.93150000e-04   1.00000000e-01\n",
        "   1.00000000e-06   1.00000000e-06   2.93150000e-04   2.93150000e-04\n",
        "   1.00000000e-01   1.00000000e-06   1.00000000e-06   2.93150000e-04\n",
        "   2.93150000e-04   3.00000000e-04   3.00000000e-04   3.00000000e-04\n",
        "   3.00000000e-04   3.00000000e-04   3.00000000e-04   2.93150000e-04\n",
        "   2.93150000e-04   2.93150000e-04   2.93150000e-04   2.93150000e-04\n",
        "   2.93150000e-04   2.93150000e-04   1.00000000e-01   1.00000000e-06\n",
        "   1.00000000e-06]\n",
        " Tolerances (relative)    : 0.0001\n",
        "\n",
        "Simulation interval    : 0.0 - 86400.0 seconds.\n",
        "Elapsed simulation time: 0.511594 seconds.\n",
        "Final Run Statistics: --- "
       ]
      },
      {
       "output_type": "stream",
       "stream": "stdout",
       "text": [
        "\n",
        "\n",
        " Number of steps                                 : 66\n",
        " Number of function evaluations                  : 81\n",
        " Number of Jacobian evaluations                  : 2\n",
        " Number of function eval. due to Jacobian eval.  : 0\n",
        " Number of error test failures                   : 1\n",
        " Number of nonlinear iterations                  : 77\n",
        " Number of nonlinear convergence failures        : 0\n",
        "\n",
        "Solver options:\n",
        "\n",
        " Solver                   : CVode\n",
        " Linear multistep method  : BDF\n",
        " Nonlinear solver         : Newton\n",
        " Linear solver type       : DENSE\n",
        " Maximal order            : 5\n",
        " Tolerances (absolute)    : 0.0003\n",
        " Tolerances (relative)    : 0.0001\n",
        "\n",
        "Simulation interval    : 0.0 - 86400.0 seconds.\n",
        "Elapsed simulation time: 0.159669 seconds.\n"
       ]
      }
     ],
     "prompt_number": 17
    },
    {
     "cell_type": "markdown",
     "metadata": {},
     "source": [
      "## Show estimation RMSE"
     ]
    },
    {
     "cell_type": "code",
     "collapsed": false,
     "input": [
      "print('\\n')\n",
      "for key in model.RMSE:\n",
      "    print('The RMSE of measurement variable {0} is {1}.'.format(key, model.RMSE[key].display_data()));"
     ],
     "language": "python",
     "metadata": {},
     "outputs": [
      {
       "output_type": "stream",
       "stream": "stdout",
       "text": [
        "\n",
        "\n",
        "The RMSE of measurement variable easPhvac is 0.0.\n",
        "The RMSE of measurement variable wesTdb is 0.193498102617.\n",
        "The RMSE of measurement variable wesPhvac is 0.0.\n",
        "The RMSE of measurement variable halTdb is 0.438315070035.\n",
        "The RMSE of measurement variable halPhvac is 0.0.\n",
        "The RMSE of measurement variable Ptot is 0.0.\n",
        "The RMSE of measurement variable easTdb is 0.540388157933.\n"
       ]
      }
     ],
     "prompt_number": 18
    },
    {
     "cell_type": "markdown",
     "metadata": {},
     "source": [
      "## Delete temporary directory"
     ]
    },
    {
     "cell_type": "code",
     "collapsed": false,
     "input": [
      "shutil.rmtree(tempdir, ignore_errors=True)\n",
      "os.chdir(cwd);"
     ],
     "language": "python",
     "metadata": {},
     "outputs": [],
     "prompt_number": 19
    }
   ],
   "metadata": {}
  }
 ]
}